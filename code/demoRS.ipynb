{
 "cells": [
  {
   "cell_type": "markdown",
   "metadata": {},
   "source": [
    "## Demo Randomized Smoothing"
   ]
  },
  {
   "cell_type": "markdown",
   "metadata": {},
   "source": [
    "First, we load the base classifier and load the weight."
   ]
  },
  {
   "cell_type": "code",
   "execution_count": 1,
   "metadata": {},
   "outputs": [
    {
     "data": {
      "text/plain": [
       "<All keys matched successfully>"
      ]
     },
     "execution_count": 1,
     "metadata": {},
     "output_type": "execute_result"
    }
   ],
   "source": [
    "import torch\n",
    "import time\n",
    "from scipy.stats import norm, binomtest\n",
    "import numpy as np\n",
    "from math import ceil\n",
    "from statsmodels.stats.proportion import proportion_confint\n",
    "from architectures import get_architecture\n",
    "from datasets import get_dataset, DATASETS, get_num_classes\n",
    "import matplotlib.pyplot as plt\n",
    "\n",
    "# fix seeds\n",
    "seed = 777\n",
    "np.random.seed(seed)\n",
    "torch.manual_seed(seed)\n",
    "torch.cuda.manual_seed(seed)\n",
    "\n",
    "# load base classifier\n",
    "baseClassifierPath = '../models/cifar10/resnet110/noise_0.12/checkpoint.pth.tar'\n",
    "checkpoint = torch.load(baseClassifierPath)\n",
    "base_classifier = get_architecture(checkpoint[\"arch\"], 'cifar10')\n",
    "base_classifier.load_state_dict(checkpoint['state_dict'])\n",
    "# base_classifier.eval()\n"
   ]
  },
  {
   "cell_type": "markdown",
   "metadata": {},
   "source": [
    "### Randomized Smoothing Implementation"
   ]
  },
  {
   "cell_type": "code",
   "execution_count": 2,
   "metadata": {},
   "outputs": [
    {
     "name": "stdout",
     "output_type": "stream",
     "text": [
      "Files already downloaded and verified\n"
     ]
    }
   ],
   "source": [
    "class Smooth(object):\n",
    "    \"\"\"A smoothed classifier g \"\"\"\n",
    "    ABSTAIN = -1\n",
    "\n",
    "    def __init__(self, base_classifier: torch.nn.Module, num_classes: int, sigma: float):\n",
    "        self.base_classifier = base_classifier\n",
    "        self.num_classes = num_classes\n",
    "        self.sigma = sigma\n",
    "\n",
    "    def certify(self, x: torch.tensor, n0: int, n: int, alpha: float, batch_size: int):\n",
    "        self.base_classifier.eval()\n",
    "        counts_selection = self._sample_noise(x, n0, batch_size)\n",
    "        cAHat = counts_selection.argmax().item()\n",
    "        counts_estimation = self._sample_noise(x, n, batch_size)\n",
    "        nA = counts_estimation[cAHat].item()\n",
    "        pABar = self._lower_confidence_bound(nA, n, alpha)\n",
    "        if pABar < 0.5:\n",
    "            return Smooth.ABSTAIN, 0.0\n",
    "        else:\n",
    "            radius = self.sigma * norm.ppf(pABar)\n",
    "            return cAHat, radius\n",
    "\n",
    "    def _sample_noise(self, x: torch.tensor, num: int, batch_size) -> np.ndarray:\n",
    "        with torch.no_grad():\n",
    "            counts = np.zeros(self.num_classes, dtype=int)\n",
    "            for _ in range(ceil(num / batch_size)):\n",
    "                this_batch_size = min(batch_size, num)\n",
    "                num -= this_batch_size\n",
    "                batch = x.repeat((this_batch_size, 1, 1, 1))\n",
    "                noise = torch.randn_like(batch, device='cuda') * self.sigma\n",
    "                predictions = self.base_classifier(batch + noise).argmax(1)\n",
    "                counts += self._count_arr(predictions.cpu().numpy(), self.num_classes)\n",
    "            return counts\n",
    "\n",
    "    def _count_arr(self, arr: np.ndarray, length: int) -> np.ndarray:\n",
    "        counts = np.zeros(length, dtype=int)\n",
    "        for idx in arr:\n",
    "            counts[idx] += 1\n",
    "        return counts\n",
    "\n",
    "    def _lower_confidence_bound(self, NA: int, N: int, alpha: float) -> float:\n",
    "        return proportion_confint(NA, N, alpha=2 * alpha, method=\"beta\")[0]\n",
    "    \n",
    "    def predict(self, x: torch.tensor, n: int, alpha: float, batch_size: int) -> int:\n",
    "        self.base_classifier.eval()\n",
    "        counts = self._sample_noise(x, n, batch_size)\n",
    "        top2 = counts.argsort()[::-1][:2]\n",
    "        count1 = counts[top2[0]]\n",
    "        count2 = counts[top2[1]]\n",
    "        if binomtest(count1, count1 + count2, p=0.5).pvalue > alpha:\n",
    "            return Smooth.ABSTAIN\n",
    "        else:\n",
    "            return top2[0]\n",
    "\n",
    "# create the smooothed classifier g\n",
    "smoothed_classifier = Smooth(base_classifier, 10, sigma=0.12)\n",
    "# create the dataset\n",
    "dataset = get_dataset('cifar10', 'test')\n"
   ]
  },
  {
   "cell_type": "markdown",
   "metadata": {},
   "source": [
    "### Let's Test It!"
   ]
  },
  {
   "cell_type": "code",
   "execution_count": 3,
   "metadata": {},
   "outputs": [
    {
     "name": "stdout",
     "output_type": "stream",
     "text": [
      "Prediction: 1\n",
      "Ground Truth: 1\n",
      "Time: 3.707\n",
      "Radius: 0.457\n",
      "Attacking.. 1000/1000\n",
      "Test result: {1: 1000}\n",
      "Success rate: 0.00%\n"
     ]
    },
    {
     "data": {
      "image/png": "[encoded data removed]",
      "text/plain": [
       "<Figure size 300x300 with 1 Axes>"
      ]
     },
     "metadata": {},
     "output_type": "display_data"
    }
   ],
   "source": [
    "(x, label) = dataset[66]\n",
    "\n",
    "plt.figure(figsize=(3,3))\n",
    "plt.imshow(x.permute(1, 2, 0), )\n",
    "plt.xticks([])\n",
    "plt.yticks([])\n",
    "plt.title(f'Original Image, label={label}' )\n",
    "\n",
    "before_time = time.time()\n",
    "x = x.cuda()\n",
    "prediction, radius = smoothed_classifier.certify(x, n0=100, n=100000, alpha=0.001, batch_size=1024)\n",
    "after_time = time.time()\n",
    "correct = 'correct' if prediction == label else 'incorrect'\n",
    "\n",
    "print(f'Prediction: {prediction}\\nGround Truth: {label}\\nTime: {after_time - before_time:.3f}')\n",
    "print(f'Radius: {radius:.3f}')\n",
    "\n",
    "result = []\n",
    "for _ in range(1000):\n",
    "    print(f'Attacking.. {_+1}/1000', end='\\r')\n",
    "    noise = torch.randn_like(x, device='cuda')\n",
    "    noise = noise / torch.norm(noise, p=2) * radius\n",
    "    perturbed_image = x + noise\n",
    "    prediction = smoothed_classifier.predict(perturbed_image, n=100, alpha=0.001, batch_size=100)\n",
    "    result.append(prediction)\n",
    "    \n",
    "count = np.unique(result, return_counts=True)\n",
    "count = dict(zip(count[0], count[1]))\n",
    "print()\n",
    "print('Test result:', count)\n",
    "print('Success rate:', f'{(1-count[label]/1000)*100:.2f}%')\n"
   ]
  },
  {
   "cell_type": "code",
   "execution_count": 4,
   "metadata": {},
   "outputs": [
    {
     "name": "stdout",
     "output_type": "stream",
     "text": [
      "Prediction: 7\n",
      "Ground Truth: 7\n",
      "Time: 3.615\n",
      "Radius: 0.438\n",
      "Test result: {7: 1000}\n",
      "Success rate: 0.00%\n"
     ]
    },
    {
     "data": {
      "image/png": "[encoded data removed]",
      "text/plain": [
       "<Figure size 300x300 with 1 Axes>"
      ]
     },
     "metadata": {},
     "output_type": "display_data"
    }
   ],
   "source": [
    "(x, label) = dataset[99]\n",
    "\n",
    "plt.figure(figsize=(3,3))\n",
    "plt.imshow(x.permute(1, 2, 0), )\n",
    "plt.xticks([])\n",
    "plt.yticks([])\n",
    "plt.title(f'Original Image, label={label}' )\n",
    "\n",
    "before_time = time.time()\n",
    "x = x.cuda()\n",
    "prediction, radius = smoothed_classifier.certify(x, n0=100, n=100000, alpha=0.001, batch_size=1024)\n",
    "after_time = time.time()\n",
    "correct = 'correct' if prediction == label else 'incorrect'\n",
    "\n",
    "print(f'Prediction: {prediction}\\nGround Truth: {label}\\nTime: {after_time - before_time:.3f}')\n",
    "print(f'Radius: {radius:.3f}')\n",
    "\n",
    "result = []\n",
    "for _ in range(1000):\n",
    "    print(f'Attacking.. {_+1}/1000', end='\\r')\n",
    "    noise = torch.randn_like(x, device='cuda')\n",
    "    noise = noise / torch.norm(noise, p=2) * radius\n",
    "    perturbed_image = x + noise\n",
    "    prediction = smoothed_classifier.predict(perturbed_image, n=100, alpha=0.001, batch_size=100)\n",
    "    result.append(prediction)\n",
    "    \n",
    "count = np.unique(result, return_counts=True)\n",
    "count = dict(zip(count[0], count[1]))\n",
    "print('Test result:', count)\n",
    "print('Success rate:', f'{(1-count[label]/1000)*100:.2f}%')"
   ]
  },
  {
   "cell_type": "code",
   "execution_count": 10,
   "metadata": {},
   "outputs": [
    {
     "name": "stdout",
     "output_type": "stream",
     "text": [
      "Attacking.. 1000/1000\n",
      "Test result: {-1: 26, 7: 973, 9: 1}\n",
      "Success rate: 2.70%\n"
     ]
    }
   ],
   "source": [
    "result = []\n",
    "for _ in range(1000):\n",
    "    print(f'Attacking.. {_+1}/1000', end='\\r')\n",
    "    noise = torch.randn_like(x, device='cuda')\n",
    "    noise = noise / torch.norm(noise, p=2) * radius * 20\n",
    "    perturbed_image = x + noise\n",
    "    prediction = smoothed_classifier.predict(perturbed_image, n=100, alpha=0.001, batch_size=100)\n",
    "    result.append(prediction)\n",
    "    \n",
    "count = np.unique(result, return_counts=True)\n",
    "count = dict(zip(count[0], count[1]))\n",
    "print('\\nTest result:', count)\n",
    "print('Success rate:', f'{(1-count[label]/1000)*100:.2f}%')"
   ]
  },
  {
   "cell_type": "code",
   "execution_count": 8,
   "metadata": {},
   "outputs": [
    {
     "name": "stderr",
     "output_type": "stream",
     "text": [
      "Clipping input data to the valid range for imshow with RGB data ([0..1] for floats or [0..255] for integers).\n"
     ]
    },
    {
     "data": {
      "text/plain": [
       "Text(0.5, 1.0, 'Original Image, label=7')"
      ]
     },
     "execution_count": 8,
     "metadata": {},
     "output_type": "execute_result"
    },
    {
     "data": {
      "image/png": "[encoded data removed]",
      "text/plain": [
       "<Figure size 300x300 with 1 Axes>"
      ]
     },
     "metadata": {},
     "output_type": "display_data"
    }
   ],
   "source": [
    "plt.figure(figsize=(3,3))\n",
    "plt.imshow(perturbed_image.cpu().permute(1, 2, 0), )\n",
    "plt.xticks([])\n",
    "plt.yticks([])\n",
    "plt.title(f'Original Image, label={label}' )"
   ]
  }
 ],
 "metadata": {
  "kernelspec": {
   "display_name": "env",
   "language": "python",
   "name": "python3"
  },
  "language_info": {
   "codemirror_mode": {
    "name": "ipython",
    "version": 3
   },
   "file_extension": ".py",
   "mimetype": "text/x-python",
   "name": "python",
   "nbconvert_exporter": "python",
   "pygments_lexer": "ipython3",
   "version": "3.10.6"
  }
 },
 "nbformat": 4,
 "nbformat_minor": 2
}
